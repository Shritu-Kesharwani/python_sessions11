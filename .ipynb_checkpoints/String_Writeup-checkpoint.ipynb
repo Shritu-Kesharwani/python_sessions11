{
 "cells": [
  {
   "cell_type": "markdown",
   "id": "0da24148",
   "metadata": {},
   "source": [
    "#                              **STRING ASSIGNMENT\n"
   ]
  },
  {
   "cell_type": "markdown",
   "id": "d1dd60d1",
   "metadata": {},
   "source": [
    "#  Strings\n"
   ]
  },
  {
   "cell_type": "markdown",
   "id": "533c6d20",
   "metadata": {},
   "source": [
    "- String is a collection of alphabets, words or other characters. \n",
    "\n"
   ]
  },
  {
   "cell_type": "markdown",
   "id": "7be57582",
   "metadata": {},
   "source": [
    "- A string is contained within 2 quotes:\n",
    "Eg. \"Sachin Tendulkar\""
   ]
  },
  {
   "cell_type": "code",
   "execution_count": 1,
   "id": "224c2e92",
   "metadata": {},
   "outputs": [
    {
     "data": {
      "text/plain": [
       "'Sachin Tendulkar'"
      ]
     },
     "execution_count": 1,
     "metadata": {},
     "output_type": "execute_result"
    }
   ],
   "source": [
    " \"Sachin Tendulkar\""
   ]
  },
  {
   "cell_type": "markdown",
   "id": "9890eddb",
   "metadata": {},
   "source": [
    "- You can also use single quotes:"
   ]
  },
  {
   "cell_type": "code",
   "execution_count": 2,
   "id": "576c8b84",
   "metadata": {},
   "outputs": [
    {
     "data": {
      "text/plain": [
       "'Sachin Tendulkar'"
      ]
     },
     "execution_count": 2,
     "metadata": {},
     "output_type": "execute_result"
    }
   ],
   "source": [
    " 'Sachin Tendulkar'"
   ]
  },
  {
   "cell_type": "markdown",
   "id": "8a9fd91c",
   "metadata": {},
   "source": [
    "- A string can also be special characters :"
   ]
  },
  {
   "cell_type": "code",
   "execution_count": 3,
   "id": "478b9c87",
   "metadata": {},
   "outputs": [
    {
     "data": {
      "text/plain": [
       "'@#2_#]&*^%$'"
      ]
     },
     "execution_count": 3,
     "metadata": {},
     "output_type": "execute_result"
    }
   ],
   "source": [
    "'@#2_#]&*^%$'"
   ]
  },
  {
   "cell_type": "markdown",
   "id": "491da219",
   "metadata": {},
   "source": [
    "- We can print our string using the print statement:"
   ]
  },
  {
   "cell_type": "code",
   "execution_count": 5,
   "id": "05eee15c",
   "metadata": {},
   "outputs": [
    {
     "name": "stdout",
     "output_type": "stream",
     "text": [
      "hello!\n"
     ]
    }
   ],
   "source": [
    "print(\"hello!\")"
   ]
  },
  {
   "cell_type": "markdown",
   "id": "700eba44",
   "metadata": {},
   "source": [
    "- We can bind or assign a string to a variable:"
   ]
  },
  {
   "cell_type": "code",
   "execution_count": 6,
   "id": "a9372e66",
   "metadata": {},
   "outputs": [
    {
     "data": {
      "text/plain": [
       "'Sachin Tendulkar'"
      ]
     },
     "execution_count": 6,
     "metadata": {},
     "output_type": "execute_result"
    }
   ],
   "source": [
    "Name= \"Sachin Tendulkar\"\n",
    "Name"
   ]
  },
  {
   "cell_type": "markdown",
   "id": "c28b0c62",
   "metadata": {},
   "source": [
    "# Docstring"
   ]
  },
  {
   "cell_type": "markdown",
   "id": "e5db32b6",
   "metadata": {},
   "source": [
    "- A Python docstring is a string used to document a Python module, class, function or method, so programmers can understand what it does without having to read the details of the implementation.\n",
    "- Python docstrings are the string literals that appear right after the definition of a function, method, class, or module. Let's take an example."
   ]
  },
  {
   "cell_type": "code",
   "execution_count": 8,
   "id": "a15509f4",
   "metadata": {},
   "outputs": [],
   "source": [
    "def square(n):\n",
    "    '''Takes in a number n, returns the square of n'''\n",
    "    return n**2\n"
   ]
  },
  {
   "cell_type": "markdown",
   "id": "ec3d89ae",
   "metadata": {},
   "source": [
    "Here, the string literal:"
   ]
  },
  {
   "cell_type": "markdown",
   "id": "db2585d4",
   "metadata": {},
   "source": [
    "'''Takes in a number n, returns the square of n'''"
   ]
  },
  {
   "cell_type": "markdown",
   "id": "bc856aca",
   "metadata": {},
   "source": [
    "Inside the triple quotation marks is the docstring of the function square() as it appears right after its definition."
   ]
  },
  {
   "cell_type": "markdown",
   "id": "a4ae47c8",
   "metadata": {},
   "source": [
    "Note: We can also use triple \"\"\" quotations to create docstrings."
   ]
  },
  {
   "cell_type": "markdown",
   "id": "73d81216",
   "metadata": {},
   "source": [
    "$type$"
   ]
  },
  {
   "cell_type": "code",
   "execution_count": 12,
   "id": "8b380016",
   "metadata": {},
   "outputs": [
    {
     "data": {
      "text/plain": [
       "str"
      ]
     },
     "execution_count": 12,
     "metadata": {},
     "output_type": "execute_result"
    }
   ],
   "source": [
    "type(\"hello\")"
   ]
  },
  {
   "cell_type": "markdown",
   "id": "8741203a",
   "metadata": {},
   "source": [
    "# String Length"
   ]
  },
  {
   "cell_type": "markdown",
   "id": "28a4cc97",
   "metadata": {},
   "source": [
    "- To get the length of a string, use the len() function."
   ]
  },
  {
   "cell_type": "code",
   "execution_count": 15,
   "id": "a29c9490",
   "metadata": {},
   "outputs": [
    {
     "name": "stdout",
     "output_type": "stream",
     "text": [
      "12\n"
     ]
    }
   ],
   "source": [
    "a = \"Hello World!\"\n",
    "print(len(a))"
   ]
  },
  {
   "cell_type": "markdown",
   "id": "306ff993",
   "metadata": {},
   "source": [
    "# Looping Through a String"
   ]
  },
  {
   "cell_type": "markdown",
   "id": "3fedb52b",
   "metadata": {},
   "source": [
    "- Since strings are arrays, we can loop through the characters in a string, with a for loop."
   ]
  },
  {
   "cell_type": "code",
   "execution_count": 17,
   "id": "b488f58f",
   "metadata": {},
   "outputs": [
    {
     "name": "stdout",
     "output_type": "stream",
     "text": [
      "b\n",
      "a\n",
      "n\n",
      "a\n",
      "n\n",
      "a\n"
     ]
    }
   ],
   "source": [
    "for x in \"banana\":\n",
    "  print(x)"
   ]
  },
  {
   "cell_type": "markdown",
   "id": "099e2dbd",
   "metadata": {},
   "source": [
    "# Slicing Strings"
   ]
  },
  {
   "cell_type": "markdown",
   "id": "dc3a2101",
   "metadata": {},
   "source": [
    "- You can return a range of characters by using the slice syntax."
   ]
  },
  {
   "cell_type": "markdown",
   "id": "d5023ba0",
   "metadata": {},
   "source": [
    "- Specify the start index and the end index, separated by a colon, to return a part of the string."
   ]
  },
  {
   "cell_type": "markdown",
   "id": "4f7e8570",
   "metadata": {},
   "source": [
    " - The first character has index 0."
   ]
  },
  {
   "cell_type": "markdown",
   "id": "3de6d457",
   "metadata": {},
   "source": [
    "- Example: Get your own Python Server\n",
    "Get the characters from position 2 to position 5 (not included):"
   ]
  },
  {
   "cell_type": "code",
   "execution_count": 2,
   "id": "fc95822d",
   "metadata": {},
   "outputs": [
    {
     "name": "stdout",
     "output_type": "stream",
     "text": [
      "llo\n"
     ]
    }
   ],
   "source": [
    "b = \"Hello, World!\"\n",
    "print(b[2:5])"
   ]
  },
  {
   "cell_type": "markdown",
   "id": "5d82aeb9",
   "metadata": {},
   "source": [
    "### Slice From the Start\n",
    "- By leaving out the start index, the range will start at the first character"
   ]
  },
  {
   "cell_type": "markdown",
   "id": "3c7cb6a3",
   "metadata": {},
   "source": [
    "- Example\n",
    "Get the characters from the start to position 5 (not included)"
   ]
  },
  {
   "cell_type": "code",
   "execution_count": 3,
   "id": "fa5a655b",
   "metadata": {},
   "outputs": [
    {
     "name": "stdout",
     "output_type": "stream",
     "text": [
      "Hello\n"
     ]
    }
   ],
   "source": [
    "b = \"Hello, World!\"\n",
    "print(b[:5])"
   ]
  },
  {
   "cell_type": "markdown",
   "id": "7bb2e911",
   "metadata": {},
   "source": [
    "### Slice To the End"
   ]
  },
  {
   "cell_type": "markdown",
   "id": "b543bb18",
   "metadata": {},
   "source": [
    "- By leaving out the end index, the range will go to the end"
   ]
  },
  {
   "cell_type": "markdown",
   "id": "221048ec",
   "metadata": {},
   "source": [
    "- Example\n",
    "Get the characters from position 2, and all the way to the end"
   ]
  },
  {
   "cell_type": "code",
   "execution_count": 5,
   "id": "025f82a8",
   "metadata": {},
   "outputs": [
    {
     "name": "stdout",
     "output_type": "stream",
     "text": [
      "llo, World!\n"
     ]
    }
   ],
   "source": [
    "b = \"Hello, World!\"\n",
    "print(b[2:])"
   ]
  },
  {
   "cell_type": "markdown",
   "id": "a621f73c",
   "metadata": {},
   "source": [
    "### Negative Indexing"
   ]
  },
  {
   "cell_type": "markdown",
   "id": "538c3ac3",
   "metadata": {},
   "source": [
    "- Use negative indexes to start the slice from the end of the string"
   ]
  },
  {
   "cell_type": "markdown",
   "id": "12755ce4",
   "metadata": {},
   "source": [
    "- Example\n",
    "   Get the characters:\n",
    "\n",
    "   From: \"o\" in \"World!\" (position -5)\n",
    "\n",
    "   To, but not included: \"d\" in \"World!\" (position -2):\n",
    "\n"
   ]
  },
  {
   "cell_type": "code",
   "execution_count": 6,
   "id": "fc47a485",
   "metadata": {},
   "outputs": [
    {
     "name": "stdout",
     "output_type": "stream",
     "text": [
      "orl\n"
     ]
    }
   ],
   "source": [
    "b = \"Hello, World!\"\n",
    "print(b[-5:-2])"
   ]
  },
  {
   "cell_type": "markdown",
   "id": "daa15d8a",
   "metadata": {},
   "source": [
    "# String Concatenation"
   ]
  },
  {
   "cell_type": "markdown",
   "id": "1e8374f8",
   "metadata": {},
   "source": [
    "- To concatenate, or combine, two strings you can use the + operator."
   ]
  },
  {
   "cell_type": "markdown",
   "id": "ce190555",
   "metadata": {},
   "source": [
    "- Example\n",
    "- Merge variable a with variable b into variable c:"
   ]
  },
  {
   "cell_type": "code",
   "execution_count": 8,
   "id": "d95643a1",
   "metadata": {},
   "outputs": [
    {
     "name": "stdout",
     "output_type": "stream",
     "text": [
      "HelloWorld\n"
     ]
    }
   ],
   "source": [
    "a = \"Hello\"\n",
    "b = \"World\"\n",
    "c = a + b\n",
    "print(c)"
   ]
  },
  {
   "cell_type": "code",
   "execution_count": 10,
   "id": "4a0049dd",
   "metadata": {},
   "outputs": [
    {
     "name": "stdout",
     "output_type": "stream",
     "text": [
      "Hello World\n"
     ]
    }
   ],
   "source": [
    "a = \"Hello\"\n",
    "b = \"World\"\n",
    "c = a + \" \" + b\n",
    "print(c)"
   ]
  },
  {
   "cell_type": "markdown",
   "id": "349efcfe",
   "metadata": {},
   "source": [
    "# String Format"
   ]
  },
  {
   "cell_type": "markdown",
   "id": "3e4d6aff",
   "metadata": {},
   "source": [
    "- we can combine strings and numbers by using the format() method!\n",
    "\n",
    "- The format() method takes the passed arguments, formats them, and places them in the string where the placeholders {} are:"
   ]
  },
  {
   "cell_type": "markdown",
   "id": "d8f977cc",
   "metadata": {},
   "source": [
    "Use the format() method to insert numbers into strings:"
   ]
  },
  {
   "cell_type": "code",
   "execution_count": 12,
   "id": "96dd4c88",
   "metadata": {},
   "outputs": [
    {
     "name": "stdout",
     "output_type": "stream",
     "text": [
      "My name is John, and I am 36\n"
     ]
    }
   ],
   "source": [
    "age = 36\n",
    "txt = \"My name is John, and I am {}\"\n",
    "print(txt.format(age))"
   ]
  },
  {
   "cell_type": "markdown",
   "id": "f1fbdb51",
   "metadata": {},
   "source": [
    "# String Methods"
   ]
  },
  {
   "cell_type": "markdown",
   "id": "4059c4e5",
   "metadata": {},
   "source": [
    " ### capitalize() Method"
   ]
  },
  {
   "cell_type": "markdown",
   "id": "87017d4f",
   "metadata": {},
   "source": [
    "- Converts the first character to upper case"
   ]
  },
  {
   "cell_type": "code",
   "execution_count": 13,
   "id": "92fdf08a",
   "metadata": {},
   "outputs": [
    {
     "name": "stdout",
     "output_type": "stream",
     "text": [
      "Hello, and welcome to my world.\n"
     ]
    }
   ],
   "source": [
    "txt = \"hello, and welcome to my world.\"\n",
    "\n",
    "x = txt.capitalize()\n",
    "\n",
    "print (x)"
   ]
  },
  {
   "cell_type": "markdown",
   "id": "b5d7fc41",
   "metadata": {},
   "source": [
    "### upper() Method"
   ]
  },
  {
   "cell_type": "markdown",
   "id": "0da628c4",
   "metadata": {},
   "source": [
    "- Converts a string into upper case"
   ]
  },
  {
   "cell_type": "code",
   "execution_count": 15,
   "id": "e629207c",
   "metadata": {},
   "outputs": [
    {
     "name": "stdout",
     "output_type": "stream",
     "text": [
      "HELLO MY FRIENDS\n"
     ]
    }
   ],
   "source": [
    "txt = \"Hello my friends\"\n",
    "\n",
    "x = txt.upper()\n",
    "\n",
    "print(x)"
   ]
  },
  {
   "cell_type": "markdown",
   "id": "c8d568cc",
   "metadata": {},
   "source": [
    "### lower() Method"
   ]
  },
  {
   "cell_type": "markdown",
   "id": "efeae042",
   "metadata": {},
   "source": [
    "- Converts a string into lower case"
   ]
  },
  {
   "cell_type": "code",
   "execution_count": 17,
   "id": "24a1a7a7",
   "metadata": {},
   "outputs": [
    {
     "name": "stdout",
     "output_type": "stream",
     "text": [
      "hello my friends\n"
     ]
    }
   ],
   "source": [
    "txt = \"Hello my FRIENDS\"\n",
    "\n",
    "x = txt.lower()\n",
    "\n",
    "print(x)"
   ]
  },
  {
   "cell_type": "markdown",
   "id": "c44af8fe",
   "metadata": {},
   "source": [
    "### casefold() Method"
   ]
  },
  {
   "cell_type": "markdown",
   "id": "2130eacd",
   "metadata": {},
   "source": [
    "- Converts string into lower case"
   ]
  },
  {
   "cell_type": "code",
   "execution_count": 18,
   "id": "37346cd1",
   "metadata": {},
   "outputs": [
    {
     "name": "stdout",
     "output_type": "stream",
     "text": [
      "hello, and welcome to my world!\n"
     ]
    }
   ],
   "source": [
    "txt = \"Hello, And Welcome To My World!\"\n",
    "\n",
    "x = txt.casefold()\n",
    "\n",
    "print(x)"
   ]
  },
  {
   "cell_type": "markdown",
   "id": "66484502",
   "metadata": {},
   "source": [
    "### count() Method"
   ]
  },
  {
   "cell_type": "markdown",
   "id": "30822e10",
   "metadata": {},
   "source": [
    "- Returns the number of times a specified value occurs in a string"
   ]
  },
  {
   "cell_type": "code",
   "execution_count": 19,
   "id": "1627b6fd",
   "metadata": {},
   "outputs": [
    {
     "name": "stdout",
     "output_type": "stream",
     "text": [
      "2\n"
     ]
    }
   ],
   "source": [
    "txt = \"I love apples, apple are my favorite fruit\"\n",
    "\n",
    "x = txt.count(\"apple\")\n",
    "\n",
    "print(x)"
   ]
  },
  {
   "cell_type": "markdown",
   "id": "8b32d71e",
   "metadata": {},
   "source": [
    "### replace() Method"
   ]
  },
  {
   "cell_type": "markdown",
   "id": "6b3c24f7",
   "metadata": {},
   "source": [
    "- Returns a string where a specified value is replaced with a specified value"
   ]
  },
  {
   "cell_type": "code",
   "execution_count": 21,
   "id": "a176b3d7",
   "metadata": {},
   "outputs": [
    {
     "name": "stdout",
     "output_type": "stream",
     "text": [
      "I like apples\n"
     ]
    }
   ],
   "source": [
    "txt = \"I like bananas\"\n",
    "\n",
    "x = txt.replace(\"bananas\", \"apples\")\n",
    "\n",
    "print(x)"
   ]
  },
  {
   "cell_type": "markdown",
   "id": "5dfaa240",
   "metadata": {},
   "source": [
    "### split() Method"
   ]
  },
  {
   "cell_type": "markdown",
   "id": "c6e1afcd",
   "metadata": {},
   "source": [
    "- Splits the string at the specified separator, and returns a list"
   ]
  },
  {
   "cell_type": "code",
   "execution_count": 22,
   "id": "7f2f3f7f",
   "metadata": {},
   "outputs": [
    {
     "name": "stdout",
     "output_type": "stream",
     "text": [
      "['welcome', 'to', 'the', 'jungle']\n"
     ]
    }
   ],
   "source": [
    "txt = \"welcome to the jungle\"\n",
    "\n",
    "x = txt.split()\n",
    "\n",
    "print(x)"
   ]
  },
  {
   "cell_type": "markdown",
   "id": "a054a14a",
   "metadata": {},
   "source": [
    "### isalpha() Method"
   ]
  },
  {
   "cell_type": "markdown",
   "id": "e0bfd309",
   "metadata": {},
   "source": [
    "- Returns True if all characters in the string are in the alphabet"
   ]
  },
  {
   "cell_type": "code",
   "execution_count": 23,
   "id": "e6924cd0",
   "metadata": {},
   "outputs": [
    {
     "name": "stdout",
     "output_type": "stream",
     "text": [
      "True\n"
     ]
    }
   ],
   "source": [
    "txt = \"CompanyX\"\n",
    "\n",
    "x = txt.isalpha()\n",
    "\n",
    "print(x)\n"
   ]
  },
  {
   "cell_type": "markdown",
   "id": "f63c9c5f",
   "metadata": {},
   "source": [
    "### isalnum() Method"
   ]
  },
  {
   "cell_type": "markdown",
   "id": "d70fcca7",
   "metadata": {},
   "source": [
    "- Returns True if all characters in the string are alphanumeric"
   ]
  },
  {
   "cell_type": "code",
   "execution_count": 24,
   "id": "26752361",
   "metadata": {},
   "outputs": [
    {
     "name": "stdout",
     "output_type": "stream",
     "text": [
      "True\n"
     ]
    }
   ],
   "source": [
    "txt = \"Company12\"\n",
    "\n",
    "x = txt.isalnum()\n",
    "\n",
    "print(x)"
   ]
  },
  {
   "cell_type": "markdown",
   "id": "668214df",
   "metadata": {},
   "source": [
    "### strip() Method\n",
    "\n"
   ]
  },
  {
   "cell_type": "markdown",
   "id": "fc984c3b",
   "metadata": {},
   "source": [
    "- Returns a trimmed version of the string\n",
    "- Remove spaces at the beginning and at the end of the string"
   ]
  },
  {
   "cell_type": "code",
   "execution_count": 25,
   "id": "7dff8650",
   "metadata": {},
   "outputs": [
    {
     "name": "stdout",
     "output_type": "stream",
     "text": [
      "of all fruits banana is my favorite\n"
     ]
    }
   ],
   "source": [
    "txt = \"     banana     \"\n",
    "\n",
    "x = txt.strip()\n",
    "\n",
    "print(\"of all fruits\", x, \"is my favorite\")"
   ]
  },
  {
   "cell_type": "markdown",
   "id": "57e1c591",
   "metadata": {},
   "source": [
    "### rstrip() Method"
   ]
  },
  {
   "cell_type": "markdown",
   "id": "beefafee",
   "metadata": {},
   "source": [
    "- Returns a right trim version of the string"
   ]
  },
  {
   "cell_type": "code",
   "execution_count": 26,
   "id": "13422b99",
   "metadata": {},
   "outputs": [
    {
     "name": "stdout",
     "output_type": "stream",
     "text": [
      "of all fruits      banana is my favorite\n"
     ]
    }
   ],
   "source": [
    "txt = \"     banana     \"\n",
    "\n",
    "x = txt.rstrip()\n",
    "\n",
    "print(\"of all fruits\", x, \"is my favorite\")\n"
   ]
  },
  {
   "cell_type": "markdown",
   "id": "56963398",
   "metadata": {},
   "source": [
    "### lstrip() Method"
   ]
  },
  {
   "cell_type": "markdown",
   "id": "b3c65ea8",
   "metadata": {},
   "source": [
    "- Returns a left trim version of the string"
   ]
  },
  {
   "cell_type": "code",
   "execution_count": 27,
   "id": "7acf7a27",
   "metadata": {},
   "outputs": [
    {
     "name": "stdout",
     "output_type": "stream",
     "text": [
      "of all fruits banana      is my favorite\n"
     ]
    }
   ],
   "source": [
    "txt = \"     banana     \"\n",
    "\n",
    "x = txt.lstrip()\n",
    "\n",
    "print(\"of all fruits\", x, \"is my favorite\")"
   ]
  },
  {
   "cell_type": "markdown",
   "id": "92edb576",
   "metadata": {},
   "source": [
    "### find() Method\n",
    "\n"
   ]
  },
  {
   "cell_type": "markdown",
   "id": "570e1ba2",
   "metadata": {},
   "source": [
    "- Searches the string for a specified value and returns the position of where it was found"
   ]
  },
  {
   "cell_type": "code",
   "execution_count": 28,
   "id": "5e11b521",
   "metadata": {},
   "outputs": [
    {
     "name": "stdout",
     "output_type": "stream",
     "text": [
      "7\n"
     ]
    }
   ],
   "source": [
    "txt = \"Hello, welcome to my world.\"\n",
    "\n",
    "x = txt.find(\"welcome\")\n",
    "\n",
    "print(x)"
   ]
  },
  {
   "cell_type": "markdown",
   "id": "a9a86c12",
   "metadata": {},
   "source": [
    "### startswith() Method"
   ]
  },
  {
   "cell_type": "markdown",
   "id": "e9122d24",
   "metadata": {},
   "source": [
    "- Returns true if the string starts with the specified value"
   ]
  },
  {
   "cell_type": "code",
   "execution_count": 29,
   "id": "466b22b9",
   "metadata": {},
   "outputs": [
    {
     "name": "stdout",
     "output_type": "stream",
     "text": [
      "True\n"
     ]
    }
   ],
   "source": [
    "txt = \"Hello, welcome to my world.\"\n",
    "\n",
    "x = txt.startswith(\"Hello\")\n",
    "\n",
    "print(x)"
   ]
  },
  {
   "cell_type": "markdown",
   "id": "f6fc2b27",
   "metadata": {},
   "source": [
    "### endswith() Method"
   ]
  },
  {
   "cell_type": "markdown",
   "id": "7ff7e72c",
   "metadata": {},
   "source": [
    "- Returns true if the string ends with the specified value"
   ]
  },
  {
   "cell_type": "code",
   "execution_count": 30,
   "id": "dba1585b",
   "metadata": {},
   "outputs": [
    {
     "name": "stdout",
     "output_type": "stream",
     "text": [
      "True\n"
     ]
    }
   ],
   "source": [
    "txt = \"Hello, welcome to my world.\"\n",
    "\n",
    "x = txt.endswith(\".\")\n",
    "\n",
    "print(x)"
   ]
  },
  {
   "cell_type": "markdown",
   "id": "4f7ea45c",
   "metadata": {},
   "source": [
    "/-/-/-/-/-/-/-/-/-/-/-/-/-/-/-/-/-/-/-/-/-/-/-/-/-/-/"
   ]
  },
  {
   "cell_type": "markdown",
   "id": "a910138d",
   "metadata": {},
   "source": [
    "type\n",
    "len\n",
    "min\n",
    "max"
   ]
  },
  {
   "cell_type": "code",
   "execution_count": null,
   "id": "62eadcfd",
   "metadata": {},
   "outputs": [],
   "source": []
  },
  {
   "cell_type": "code",
   "execution_count": null,
   "id": "ed88214b",
   "metadata": {},
   "outputs": [],
   "source": []
  },
  {
   "cell_type": "code",
   "execution_count": null,
   "id": "f75a8cb6",
   "metadata": {},
   "outputs": [],
   "source": []
  },
  {
   "cell_type": "code",
   "execution_count": null,
   "id": "be07cb0c",
   "metadata": {},
   "outputs": [],
   "source": []
  },
  {
   "cell_type": "code",
   "execution_count": null,
   "id": "1ee249f3",
   "metadata": {},
   "outputs": [],
   "source": []
  },
  {
   "cell_type": "code",
   "execution_count": null,
   "id": "e8663e1a",
   "metadata": {},
   "outputs": [],
   "source": []
  },
  {
   "cell_type": "code",
   "execution_count": null,
   "id": "e3c91300",
   "metadata": {},
   "outputs": [],
   "source": []
  }
 ],
 "metadata": {
  "kernelspec": {
   "display_name": "Python 3 (ipykernel)",
   "language": "python",
   "name": "python3"
  },
  "language_info": {
   "codemirror_mode": {
    "name": "ipython",
    "version": 3
   },
   "file_extension": ".py",
   "mimetype": "text/x-python",
   "name": "python",
   "nbconvert_exporter": "python",
   "pygments_lexer": "ipython3",
   "version": "3.11.5"
  }
 },
 "nbformat": 4,
 "nbformat_minor": 5
}
